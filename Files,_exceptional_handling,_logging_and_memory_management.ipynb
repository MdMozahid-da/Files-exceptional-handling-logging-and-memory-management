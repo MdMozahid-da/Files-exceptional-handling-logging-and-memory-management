{
  "nbformat": 4,
  "nbformat_minor": 0,
  "metadata": {
    "colab": {
      "provenance": []
    },
    "kernelspec": {
      "name": "python3",
      "display_name": "Python 3"
    },
    "language_info": {
      "name": "python"
    }
  },
  "cells": [
    {
      "cell_type": "markdown",
      "source": [
        "#Files, exceptional handling, logging and memory management"
      ],
      "metadata": {
        "id": "vVl7Jk6B0dqB"
      }
    },
    {
      "cell_type": "markdown",
      "source": [
        "1. What is the difference between interpreted and compiled languages?\n",
        " -  Interpreted Languages: These execute instructions directly, without\n",
        "    the need to compile the source code into machine code. Examples include Python, JavaScript, and Ruby.\n",
        "\n",
        "    Compiled Languages: These require the source code to be compiled into machine code before execution. This process converts the entire program into an executable file. Examples include C, C++, and Java."
      ],
      "metadata": {
        "id": "vu7t4b9U0ntD"
      }
    },
    {
      "cell_type": "markdown",
      "source": [
        "2. What is exception handling in Python?\n",
        " - Exception handling is a mechanism in Python to handle runtime errors, ensuring the normal flow of the program is maintained. It uses try, except, else, and finally blocks to manage errors gracefully."
      ],
      "metadata": {
        "id": "H91UGVcH09az"
      }
    },
    {
      "cell_type": "markdown",
      "source": [
        "3. What is the purpose of the finally block in exception handling?\n",
        " - The finally block in Python is used to execute code regardless of whether an exception is thrown or not. It is typically used for cleanup actions like closing files or releasing resources."
      ],
      "metadata": {
        "id": "Azg5DLRf1c36"
      }
    },
    {
      "cell_type": "markdown",
      "source": [
        "4. What is logging in Python?\n",
        "\n",
        " - Logging in Python refers to tracking events that happen when some software runs. The logging module is used to record messages at different severity levels (DEBUG, INFO, WARNING, ERROR, and CRITICAL).\n",
        "\n"
      ],
      "metadata": {
        "id": "kLR3eXuw1zVg"
      }
    },
    {
      "cell_type": "markdown",
      "source": [
        "5. What is the significance of the __del__ method in Python?\n",
        "\n",
        " - The __del__ method is a destructor method in Python. It is called when an object is about to be destroyed, allowing for cleanup of resources.\n",
        "\n"
      ],
      "metadata": {
        "id": "BbNCegyt2CtB"
      }
    },
    {
      "cell_type": "markdown",
      "source": [
        "6. What is the difference between import and from ... import in Python?\n",
        "\n",
        " - import module imports the entire module, making all functions and variables accessible with the module name prefix.\n",
        "\n",
        "    from module import name imports specific functions or variables from a module, making them directly accessible without the module name prefix."
      ],
      "metadata": {
        "id": "yciclReV2IJR"
      }
    },
    {
      "cell_type": "markdown",
      "source": [
        "7. How can you handle multiple exceptions in Python?\n",
        "\n",
        " - Multiple exceptions can be handled using multiple except blocks or by grouping exceptions in a tuple within a single except block."
      ],
      "metadata": {
        "id": "ipNx0egy2p7K"
      }
    },
    {
      "cell_type": "code",
      "source": [
        "'''\n",
        "try:\n",
        "    # code that may raise an exception\n",
        "except (TypeError, ValueError) as e:\n",
        "    # handle TypeError and ValueError\n",
        "'''"
      ],
      "metadata": {
        "id": "lm5BK3Ju2yRL"
      },
      "execution_count": null,
      "outputs": []
    },
    {
      "cell_type": "markdown",
      "source": [
        "8. What is the purpose of the with statement when handling files in Python?\n",
        "\n",
        " - The with statement ensures that resources like files are properly managed. It automatically closes the file after the block of code is executed, even if an exception is raised.\n",
        "\n"
      ],
      "metadata": {
        "id": "Z726ddy14vuU"
      }
    },
    {
      "cell_type": "markdown",
      "source": [
        "9. What is the difference between multithreading and multiprocessing?\n",
        "\n",
        " - Multithreading: Running multiple threads within a single process, sharing the same memory space.\n",
        "\n",
        "    Multiprocessing: Running multiple processes, each with its own memory space, allowing true parallelism."
      ],
      "metadata": {
        "id": "4bDeZLJC44cE"
      }
    },
    {
      "cell_type": "markdown",
      "source": [
        "10. What are the advantages of using logging in a program?\n",
        "\n",
        " - Logging provides a way to track events, debug issues, monitor program execution, and store historical data for analysis. It helps in understanding program flow and diagnosing problems.\n",
        "\n"
      ],
      "metadata": {
        "id": "Yk3pIKfp5Ci3"
      }
    },
    {
      "cell_type": "markdown",
      "source": [
        "11. What is memory management in Python?\n",
        "\n",
        " - Memory management in Python involves the allocation and deallocation of memory to objects. It is handled by Python's built-in garbage collector, which automatically frees up memory by removing objects no longer in use.\n",
        "\n"
      ],
      "metadata": {
        "id": "bVAt0ZNI5Jiu"
      }
    },
    {
      "cell_type": "markdown",
      "source": [
        "12. What are the basic steps involved in exception handling in Python?\n",
        " - The basic steps are:\n",
        "\n",
        "     Try: Execute code that might raise an exception.\n",
        "\n",
        "     Except: Catch and handle the exception.\n",
        "\n",
        "     Else: Execute code if no exceptions are raised.\n",
        "\n",
        "     Finally: Execute code regardless of whether an exception was raised.\n"
      ],
      "metadata": {
        "id": "Gn9AKO--5JrO"
      }
    },
    {
      "cell_type": "markdown",
      "source": [
        "13. Why is memory management important in Python?\n",
        "\n",
        " - Efficient memory management ensures optimal use of available memory, preventing memory leaks, improving performance, and maintaining program stability.\n",
        "\n"
      ],
      "metadata": {
        "id": "sYr3qJwU6kzL"
      }
    },
    {
      "cell_type": "markdown",
      "source": [
        "14. What is the role of try and except in exception handling?\n",
        "\n",
        " - The try block contains code that may raise an exception. The except block catches and handles the exception, preventing the program from crashing.\n",
        "\n"
      ],
      "metadata": {
        "id": "t-j7yPBX6tK0"
      }
    },
    {
      "cell_type": "markdown",
      "source": [
        "15. How does Python's garbage collection system work?\n",
        "\n",
        " - Python's garbage collector identifies and removes objects that are no longer in use. It uses reference counting and cyclic garbage collection to manage memory.\n",
        "\n"
      ],
      "metadata": {
        "id": "kFHwF8C960zu"
      }
    },
    {
      "cell_type": "markdown",
      "source": [
        "16. What is the purpose of the else block in exception handling?\n",
        "\n",
        " - The else block contains code that executes if no exceptions are raised in the try block. It is useful for code that should run only if the try block succeeds.\n",
        "\n"
      ],
      "metadata": {
        "id": "OqeWf5u266qq"
      }
    },
    {
      "cell_type": "markdown",
      "source": [
        "17. What are the common logging levels in Python?\n",
        "\n",
        " - The common logging levels are:\n",
        "\n",
        "     DEBUG: Detailed information, typically for debugging.\n",
        "\n",
        "     INFO: General information about program execution.\n",
        "\n",
        "     WARNING: An indication that something unexpected happened or may happen.\n",
        "\n",
        "     ERROR: A more serious problem, an error that prevented a function from executing.\n",
        "\n",
        "     CRITICAL: A very serious error, indicating the program may not be able to continue running."
      ],
      "metadata": {
        "id": "cixVTJti7Bud"
      }
    },
    {
      "cell_type": "markdown",
      "source": [
        "18. What is the difference between os.fork() and multiprocessing in Python?\n",
        "\n",
        " - os.fork() creates a new process by duplicating the current process. It is specific to Unix-like systems.\n",
        "\n",
        "     The multiprocessing module provides a more portable way to create processes and manage inter-process communication, working across different platforms.\n",
        "\n"
      ],
      "metadata": {
        "id": "E42XzIUp7VZA"
      }
    },
    {
      "cell_type": "markdown",
      "source": [
        "19. What is the importance of closing a file in Python?\n",
        " - Closing a file ensures that all data is written to disk and resources are released. It prevents data corruption and frees up system resources.\n",
        "\n"
      ],
      "metadata": {
        "id": "hgLD2TPA7nr0"
      }
    },
    {
      "cell_type": "markdown",
      "source": [
        "20. What is the difference between file.read() and file.readline() in Python?\n",
        "\n",
        " - file.read(): Reads the entire content of the file as a single string.\n",
        "\n",
        "     file.readline(): Reads the next line from the file, returning it as a string."
      ],
      "metadata": {
        "id": "faCt3YHu7vtj"
      }
    },
    {
      "cell_type": "markdown",
      "source": [
        "21. What is the logging module in Python used for?\n",
        "\n",
        " - The logging module is used for tracking events during program execution. It provides a flexible framework for generating log messages of various levels and directing them to different outputs (console, file, etc.).\n",
        "\n"
      ],
      "metadata": {
        "id": "LsDJD1EP78Ne"
      }
    },
    {
      "cell_type": "markdown",
      "source": [
        "22. What is the os module in Python used for in file handling?\n",
        "\n",
        " - The os module provides a way to interact with the operating system. In file handling, it is used to perform operations like creating, removing, and moving files and directories.\n",
        "\n"
      ],
      "metadata": {
        "id": "iDLMSTm_8DZJ"
      }
    },
    {
      "cell_type": "markdown",
      "source": [
        "23. What are the challenges associated with memory management in Python?\n",
        "\n",
        " - Challenges include avoiding memory leaks, managing reference cycles, ensuring efficient memory allocation, and optimizing performance for large datasets.\n",
        "\n"
      ],
      "metadata": {
        "id": "uuESHMxJ8KVZ"
      }
    },
    {
      "cell_type": "markdown",
      "source": [
        "24. How do you raise an exception manually in Python?\n",
        "\n",
        " - In Python, you can raise an exception manually using the raise keyword. This is useful when you want to signal that an error has occurred, even if Python doesn't raise an error on its own. Here’s how you can do it:"
      ],
      "metadata": {
        "id": "2-oJEipr8RKQ"
      }
    },
    {
      "cell_type": "code",
      "source": [
        "'''\n",
        "def check_positive_number(value):\n",
        "    if value < 0:\n",
        "        raise ValueError(\"The value must be positive!\")\n",
        "    return value\n",
        "\n",
        "try:\n",
        "    check_positive_number(-5)\n",
        "except ValueError as e:\n",
        "    print(e)\n",
        "\n",
        "'''"
      ],
      "metadata": {
        "id": "D4UjjnU58Wv3"
      },
      "execution_count": null,
      "outputs": []
    },
    {
      "cell_type": "markdown",
      "source": [
        "25. Why is it important to use multithreading in certain applications?\n",
        " - Multithreading is important in certain applications for several reasons:\n",
        "\n",
        "     Concurrency: Multithreading allows multiple threads to run concurrently, which is essential for tasks that involve waiting, such as I/O operations. This means your application can perform other tasks while waiting for an I/O operation to complete, improving overall efficiency.\n",
        "\n",
        "     Responsiveness: In GUI applications, multithreading can keep the interface responsive. By running time-consuming tasks in a separate thread, the main thread remains free to handle user interactions, preventing the application from freezing.\n",
        "\n",
        "     Resource Sharing: Threads share the same memory space, which allows for easy communication between them. This is beneficial in applications that need to share data across different tasks.\n",
        "\n",
        "     Parallelism: On multi-core processors, multithreading can achieve parallelism, where multiple threads execute simultaneously on different cores. This can significantly improve performance for CPU-bound tasks.\n",
        "\n",
        "     Example"
      ],
      "metadata": {
        "id": "cABEKjm08aH1"
      }
    },
    {
      "cell_type": "code",
      "source": [
        "'''\n",
        "import threading\n",
        "import time\n",
        "\n",
        "def task(name):\n",
        "    print(f\"Starting task {name}\")\n",
        "    time.sleep(2)\n",
        "    print(f\"Task {name} completed\")\n",
        "\n",
        "# Create threads\n",
        "thread1 = threading.Thread(target=task, args=(\"A\",))\n",
        "thread2 = threading.Thread(target=task, args=(\"B\",))\n",
        "\n",
        "# Start threads\n",
        "thread1.start()\n",
        "thread2.start()\n",
        "\n",
        "# Wait for threads to complete\n",
        "thread1.join()\n",
        "thread2.join()\n",
        "\n",
        "print(\"All tasks completed\")\n",
        "'''"
      ],
      "metadata": {
        "id": "iqjoxyoi-Osh"
      },
      "execution_count": null,
      "outputs": []
    },
    {
      "cell_type": "markdown",
      "source": [
        "#Practical question"
      ],
      "metadata": {
        "id": "WK9JKTFanXzX"
      }
    },
    {
      "cell_type": "markdown",
      "source": [
        "1. How can you open a file for writing in Python and write a string to it?\n"
      ],
      "metadata": {
        "id": "HoCwX-ZonejC"
      }
    },
    {
      "cell_type": "code",
      "source": [
        "'''\n",
        "with open('example.txt', 'w') as file:\n",
        "    file.write(\"Hello, World!\")\n",
        "'''"
      ],
      "metadata": {
        "id": "4z4keIKbsnEd"
      },
      "execution_count": null,
      "outputs": []
    },
    {
      "cell_type": "markdown",
      "source": [
        "2. Write a Python program to read the contents of a file and print each line."
      ],
      "metadata": {
        "id": "6l3XVmEssnu9"
      }
    },
    {
      "cell_type": "code",
      "source": [
        "'''\n",
        "with open('example.txt', 'r') as file:\n",
        "    for line in file:\n",
        "        print(line.strip())\n",
        "'''"
      ],
      "metadata": {
        "id": "JVVhFRXastTb"
      },
      "execution_count": null,
      "outputs": []
    },
    {
      "cell_type": "markdown",
      "source": [
        "3. How would you handle a case where the file doesn't exist while trying to open it for reading?"
      ],
      "metadata": {
        "id": "30kH2mTWstru"
      }
    },
    {
      "cell_type": "code",
      "source": [
        "'''\n",
        "try:\n",
        "    with open('nonexistent.txt', 'r') as file:\n",
        "        content = file.read()\n",
        "except FileNotFoundError:\n",
        "    print(\"File not found.\")\n",
        "'''"
      ],
      "metadata": {
        "id": "DkaLHY0ws0kJ"
      },
      "execution_count": null,
      "outputs": []
    },
    {
      "cell_type": "markdown",
      "source": [
        " 4. Write a Python script that reads from one file and writes its content to another file?."
      ],
      "metadata": {
        "id": "CSrflja2s3CQ"
      }
    },
    {
      "cell_type": "code",
      "source": [
        "'''\n",
        "with open('source.txt', 'r') as source_file:\n",
        "    content = source_file.read()\n",
        "with open('destination.txt', 'w') as destination_file:\n",
        "    destination_file.write(content)\n",
        "'''"
      ],
      "metadata": {
        "id": "zw8z1Ooss6ZE"
      },
      "execution_count": null,
      "outputs": []
    },
    {
      "cell_type": "markdown",
      "source": [
        "5. How would you catch and handle division by zero error in Python?"
      ],
      "metadata": {
        "id": "0xPE-vkTs7M9"
      }
    },
    {
      "cell_type": "code",
      "source": [
        "'''\n",
        "try:\n",
        "    result = 10 / 0\n",
        "except ZeroDivisionError:\n",
        "    print(\"Division by zero is not allowed.\")\n",
        "'''"
      ],
      "metadata": {
        "id": "OaL05YnTs_aq"
      },
      "execution_count": null,
      "outputs": []
    },
    {
      "cell_type": "markdown",
      "source": [
        "6. Write a Python program that logs an error message to a log file when a division by zero exception occurs."
      ],
      "metadata": {
        "id": "SMr58Q7Rs_yB"
      }
    },
    {
      "cell_type": "code",
      "source": [
        "'''\n",
        "import logging\n",
        "logging.basicConfig(filename='app.log', level=logging.ERROR)\n",
        "try:\n",
        "    result = 10 / 0\n",
        "except ZeroDivisionError as e:\n",
        "    logging.error(\"Division by zero occurred: %s\", e)\n",
        "'''"
      ],
      "metadata": {
        "id": "W0TGeICJtCz6"
      },
      "execution_count": null,
      "outputs": []
    },
    {
      "cell_type": "markdown",
      "source": [
        "7. How do you log information at different levels (INFO, ERROR, WARNING) in Python using the logging module?"
      ],
      "metadata": {
        "id": "6yl1tPNxtDuK"
      }
    },
    {
      "cell_type": "code",
      "source": [
        "'''\n",
        "import logging\n",
        "logging.basicConfig(filename='app.log', level=logging.DEBUG)\n",
        "logging.info(\"This is an informational message.\")\n",
        "logging.warning(\"This is a warning message.\")\n",
        "logging.error(\"This is an error message.\")\n",
        "'''"
      ],
      "metadata": {
        "id": "BEgGWwmmtGX3"
      },
      "execution_count": null,
      "outputs": []
    },
    {
      "cell_type": "markdown",
      "source": [
        " 8. Write a program to handle a file opening error using exception handling."
      ],
      "metadata": {
        "id": "3egNSoretGvz"
      }
    },
    {
      "cell_type": "code",
      "source": [
        "'''\n",
        "try:\n",
        "    with open('example.txt', 'r') as file:\n",
        "        content = file.read()\n",
        "except FileNotFoundError:\n",
        "    print(\"File not found.\")\n",
        "'''"
      ],
      "metadata": {
        "id": "8IuRvzF-tK_2"
      },
      "execution_count": null,
      "outputs": []
    },
    {
      "cell_type": "markdown",
      "source": [
        "9. How can you read a file line by line and store its content in a list in Python?"
      ],
      "metadata": {
        "id": "3l3j3ZWDtLjP"
      }
    },
    {
      "cell_type": "code",
      "source": [
        "'''\n",
        "lines = []\n",
        "with open('example.txt', 'r') as file:\n",
        "    lines = file.readlines()\n",
        "'''"
      ],
      "metadata": {
        "id": "NL3zOEyhtOhn"
      },
      "execution_count": null,
      "outputs": []
    },
    {
      "cell_type": "markdown",
      "source": [
        "10. How can you append data to an existing file in Python?"
      ],
      "metadata": {
        "id": "-biqVe9DtO_n"
      }
    },
    {
      "cell_type": "code",
      "source": [
        "'''\n",
        "with open('example.txt', 'a') as file:\n",
        "    file.write(\"\\nAdditional line.\")\n",
        "'''"
      ],
      "metadata": {
        "id": "5TKuJeVstSWV"
      },
      "execution_count": null,
      "outputs": []
    },
    {
      "cell_type": "markdown",
      "source": [
        "11. Write a Python program that uses a try-except block to handle an error when attempting to access a dictionary key that doesn't exist?."
      ],
      "metadata": {
        "id": "7ai3FtietSvK"
      }
    },
    {
      "cell_type": "code",
      "source": [
        "'''\n",
        "try:\n",
        "    value = my_dict['nonexistent_key']\n",
        "except KeyError:\n",
        "    print(\"Key not found.\")\n",
        "'''"
      ],
      "metadata": {
        "id": "LQlEZz_WtXR_"
      },
      "execution_count": null,
      "outputs": []
    },
    {
      "cell_type": "markdown",
      "source": [
        "12. Write a program that demonstrates using multiple except blocks to handle different types of exceptions."
      ],
      "metadata": {
        "id": "5QY4ZgZqtXxG"
      }
    },
    {
      "cell_type": "code",
      "source": [
        "'''\n",
        "try:\n",
        "    result = 10 / 0\n",
        "except ZeroDivisionError:\n",
        "    print(\"Division by zero is not allowed.\")\n",
        "except ValueError:\n",
        "    print(\"Invalid value.\")\n",
        "'''"
      ],
      "metadata": {
        "id": "d05gN78ztjdi"
      },
      "execution_count": null,
      "outputs": []
    },
    {
      "cell_type": "markdown",
      "source": [
        "13. How would you check if a file exists before attempting to read it in Python?"
      ],
      "metadata": {
        "id": "FsR92XPWtj7I"
      }
    },
    {
      "cell_type": "code",
      "source": [
        "'''\n",
        "import os\n",
        "if os.path.exists('example.txt'):\n",
        "    with open('example.txt', 'r') as file:\n",
        "        content = file.read()\n",
        "else:\n",
        "    print(\"File does not exist.\")\n",
        "'''"
      ],
      "metadata": {
        "id": "Y2gWdeWJtrFb"
      },
      "execution_count": null,
      "outputs": []
    },
    {
      "cell_type": "markdown",
      "source": [
        "14. Write a program that uses the logging module to log both informational and error messages."
      ],
      "metadata": {
        "id": "qiUClVWmtror"
      }
    },
    {
      "cell_type": "code",
      "source": [
        "'''\n",
        "import logging\n",
        "logging.basicConfig(filename='app.log', level=logging.DEBUG)\n",
        "logging.info(\"Informational message.\")\n",
        "logging.error(\"Error message.\")\n",
        "'''"
      ],
      "metadata": {
        "id": "KZ5CrCODtxsD"
      },
      "execution_count": null,
      "outputs": []
    },
    {
      "cell_type": "markdown",
      "source": [
        "15. Write a Python program that prints the content of a file and handles the case when the file is empty."
      ],
      "metadata": {
        "id": "ttZg89T0tyOP"
      }
    },
    {
      "cell_type": "code",
      "source": [
        "'''\n",
        "with open('example.txt', 'r') as file:\n",
        "    content = file.read()\n",
        "    if not content:\n",
        "        print(\"The file is empty.\")\n",
        "    else:\n",
        "        print(content)\n",
        "'''"
      ],
      "metadata": {
        "id": "J_R4MkUUt3YO"
      },
      "execution_count": null,
      "outputs": []
    },
    {
      "cell_type": "markdown",
      "source": [
        "16. Demonstrate how to use memory profiling to check the memory usage of a small program."
      ],
      "metadata": {
        "id": "YD4v3sYvt33h"
      }
    },
    {
      "cell_type": "code",
      "source": [
        "'''\n",
        "from memory_profiler import profile\n",
        "\n",
        "@profile\n",
        "def my_func():\n",
        "    a = [1] * (10 ** 6)\n",
        "    b = [2] * (2 * 10 ** 7)\n",
        "    del b\n",
        "    return a\n",
        "\n",
        "if __name__ == \"__main__\":\n",
        "    my_func()\n",
        "'''"
      ],
      "metadata": {
        "id": "wHggSzLwt-ah"
      },
      "execution_count": null,
      "outputs": []
    },
    {
      "cell_type": "markdown",
      "source": [
        "17. Write a Python program to create and write a list of numbers to a file, one number per line."
      ],
      "metadata": {
        "id": "B6uDTfBvt-64"
      }
    },
    {
      "cell_type": "code",
      "source": [
        "'''\n",
        "numbers = [1, 2, 3, 4, 5]\n",
        "with open('numbers.txt', 'w') as file:\n",
        "    for number in numbers:\n",
        "        file.write(f\"{number}\\n\")\n",
        "'''"
      ],
      "metadata": {
        "id": "9UGmQ1rKuI7L"
      },
      "execution_count": null,
      "outputs": []
    },
    {
      "cell_type": "markdown",
      "source": [
        "18.  How would you implement a basic logging setup that logs to a file with rotation after 1MB?"
      ],
      "metadata": {
        "id": "njoHQlPBuJZo"
      }
    },
    {
      "cell_type": "code",
      "source": [
        "'''\n",
        "import logging\n",
        "from logging.handlers import RotatingFileHandler\n",
        "\n",
        "handler = RotatingFileHandler('app.log', maxBytes=1048576, backupCount=5)\n",
        "logging.basicConfig(handlers=[handler], level=logging.INFO)\n",
        "logging.info(\"This is an informational message.\")\n",
        "'''"
      ],
      "metadata": {
        "id": "bg_v_1gLuqlJ"
      },
      "execution_count": null,
      "outputs": []
    },
    {
      "cell_type": "markdown",
      "source": [
        "19. Write a program that handles both IndexError and KeyError using a try-except block."
      ],
      "metadata": {
        "id": "hJ5HK-CNuq5B"
      }
    },
    {
      "cell_type": "code",
      "source": [
        "'''\n",
        "try:\n",
        "    value = my_list[10]\n",
        "    another_value = my_dict['nonexistent_key']\n",
        "except IndexError:\n",
        "    print(\"Index out of range.\")\n",
        "except KeyError:\n",
        "    print(\"Key not found.\")\n",
        "'''"
      ],
      "metadata": {
        "id": "AdeABFt9u0pF"
      },
      "execution_count": null,
      "outputs": []
    },
    {
      "cell_type": "markdown",
      "source": [
        "20.  How would you open a file and read its contents using a context manager in Python?"
      ],
      "metadata": {
        "id": "lBSbRO-Xu1Ba"
      }
    },
    {
      "cell_type": "code",
      "source": [
        "'''\n",
        "with open('example.txt', 'r') as file:\n",
        "    content = file.read()\n",
        "print(content)\n",
        "'''"
      ],
      "metadata": {
        "id": "UlJ4Z03nu84a"
      },
      "execution_count": null,
      "outputs": []
    },
    {
      "cell_type": "markdown",
      "source": [
        "21. Write a Python program that reads a file and prints the number of occurrences of a specific word."
      ],
      "metadata": {
        "id": "11nJUHvPu97A"
      }
    },
    {
      "cell_type": "code",
      "source": [
        "'''\n",
        "word = \"example\"\n",
        "with open('example.txt', 'r') as file:\n",
        "    content = file.read()\n",
        "    count = content.count(word)\n",
        "print(f\"The word '{word}' occurs {count} times.\")\n",
        "'''"
      ],
      "metadata": {
        "id": "zrGmgw7jvMYV"
      },
      "execution_count": null,
      "outputs": []
    },
    {
      "cell_type": "markdown",
      "source": [
        "22. How can you check if a file is empty before attempting to read its contents?"
      ],
      "metadata": {
        "id": "J4CgmE3BvNUY"
      }
    },
    {
      "cell_type": "code",
      "source": [
        "'''\n",
        "import os\n",
        "if os.stat('example.txt').st_size == 0:\n",
        "    print(\"The file is empty.\")\n",
        "else:\n",
        "    with open('example.txt', 'r') as file:\n",
        "        content = file.read()\n",
        "'''"
      ],
      "metadata": {
        "id": "ezQnozOxvStV"
      },
      "execution_count": null,
      "outputs": []
    },
    {
      "cell_type": "markdown",
      "source": [
        "23. Write a Python program that writes to a log file when an error occurs during file handling."
      ],
      "metadata": {
        "id": "D95Ku8UCvTJG"
      }
    },
    {
      "cell_type": "code",
      "source": [
        "'''\n",
        "import logging\n",
        "logging.basicConfig(filename='file_errors.log', level=logging.ERROR)\n",
        "\n",
        "try:\n",
        "    with open('example.txt', 'r') as file:\n",
        "        content = file.read()\n",
        "except FileNotFoundError as e:\n",
        "    logging.error(\"File not found: %s\", e)\n",
        "'''"
      ],
      "metadata": {
        "id": "BePXT81PvVbO"
      },
      "execution_count": null,
      "outputs": []
    }
  ]
}